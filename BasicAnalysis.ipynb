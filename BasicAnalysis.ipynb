{
  "nbformat": 4,
  "nbformat_minor": 0,
  "metadata": {
    "colab": {
      "name": "BasicAnalysis.ipynb",
      "version": "0.3.2",
      "provenance": [],
      "collapsed_sections": [],
      "include_colab_link": true
    },
    "kernelspec": {
      "name": "python3",
      "display_name": "Python 3"
    }
  },
  "cells": [
    {
      "cell_type": "markdown",
      "metadata": {
        "id": "view-in-github",
        "colab_type": "text"
      },
      "source": [
        "[View in Colaboratory](https://colab.research.google.com/github/jotadram6/Colaboratory-HEP/blob/master/BasicAnalysis.ipynb)"
      ]
    },
    {
      "metadata": {
        "id": "l2Kx9iqQ4ToX",
        "colab_type": "text"
      },
      "cell_type": "markdown",
      "source": [
        "# With this notebook we will:\n",
        "## 1. Install packages needed for root\n",
        "## 2. Download a binary root that compiled in google drive \"colaboratory\" environement\n",
        "## 3. Modify the PATH in order to tell python where to look for pyROOT\n",
        "## 4. Finally, a basic analysis example with pyROOT\n",
        "\n",
        "##### Author: Jose Ruiz\n",
        "##### Maintainer: Jose Ruiz\n",
        "##### Developed at: Universidad de Antioquia\n"
      ]
    },
    {
      "metadata": {
        "id": "C1gPEaTg6fLl",
        "colab_type": "text"
      },
      "cell_type": "markdown",
      "source": [
        "### 1. Install packages needed for root"
      ]
    },
    {
      "metadata": {
        "id": "gYEA4UKNplb6",
        "colab_type": "code",
        "colab": {
          "base_uri": "https://localhost:8080/",
          "height": 1997
        },
        "outputId": "bc005e10-d061-4319-fe5f-22e457a9a6ef"
      },
      "cell_type": "code",
      "source": [
        "!apt-get install git dpkg-dev cmake g++ gcc binutils libx11-dev libxpm-dev libxft-dev libxext-dev tar gfortran subversion"
      ],
      "execution_count": 1,
      "outputs": [
        {
          "output_type": "stream",
          "text": [
            "Reading package lists... Done\n",
            "Building dependency tree       \n",
            "Reading state information... Done\n",
            "dpkg-dev is already the newest version (1.19.0.5ubuntu2).\n",
            "dpkg-dev set to manually installed.\n",
            "libxft-dev is already the newest version (2.3.2-1).\n",
            "tar is already the newest version (1.29b-2).\n",
            "binutils is already the newest version (2.30-21ubuntu1~18.04).\n",
            "binutils set to manually installed.\n",
            "g++ is already the newest version (4:7.3.0-3ubuntu2.1).\n",
            "g++ set to manually installed.\n",
            "gcc is already the newest version (4:7.3.0-3ubuntu2.1).\n",
            "gcc set to manually installed.\n",
            "gfortran is already the newest version (4:7.3.0-3ubuntu2.1).\n",
            "git is already the newest version (1:2.17.1-1ubuntu0.1).\n",
            "libx11-dev is already the newest version (2:1.6.4-3ubuntu0.1).\n",
            "libx11-dev set to manually installed.\n",
            "The following additional packages will be installed:\n",
            "  cmake-data libapr1 libaprutil1 libarchive13 libjsoncpp1 liblzo2-2 librhash0\n",
            "  libserf-1-1 libsvn1 libuv1 libxpm4 x11proto-xext-dev\n",
            "Suggested packages:\n",
            "  cmake-doc ninja-build lrzip libxext-doc db5.3-util libapache2-mod-svn\n",
            "  subversion-tools\n",
            "The following NEW packages will be installed:\n",
            "  cmake cmake-data libapr1 libaprutil1 libarchive13 libjsoncpp1 liblzo2-2\n",
            "  librhash0 libserf-1-1 libsvn1 libuv1 libxext-dev libxpm-dev libxpm4\n",
            "  subversion x11proto-xext-dev\n",
            "0 upgraded, 16 newly installed, 0 to remove and 4 not upgraded.\n",
            "Need to get 7,466 kB of archives.\n",
            "After this operation, 36.1 MB of additional disk space will be used.\n",
            "Get:1 http://archive.ubuntu.com/ubuntu bionic/main amd64 liblzo2-2 amd64 2.08-1.2 [48.7 kB]\n",
            "Get:2 http://archive.ubuntu.com/ubuntu bionic/main amd64 cmake-data all 3.10.2-1ubuntu2 [1,331 kB]\n",
            "Get:3 http://archive.ubuntu.com/ubuntu bionic-updates/main amd64 libarchive13 amd64 3.2.2-3.1ubuntu0.1 [289 kB]\n",
            "Get:4 http://archive.ubuntu.com/ubuntu bionic/main amd64 libjsoncpp1 amd64 1.7.4-3 [73.6 kB]\n",
            "Get:5 http://archive.ubuntu.com/ubuntu bionic/main amd64 librhash0 amd64 1.3.6-2 [78.1 kB]\n",
            "Get:6 http://archive.ubuntu.com/ubuntu bionic/main amd64 libuv1 amd64 1.18.0-3 [64.4 kB]\n",
            "Get:7 http://archive.ubuntu.com/ubuntu bionic/main amd64 cmake amd64 3.10.2-1ubuntu2 [3,138 kB]\n",
            "Get:8 http://archive.ubuntu.com/ubuntu bionic/main amd64 libapr1 amd64 1.6.3-2 [90.9 kB]\n",
            "Get:9 http://archive.ubuntu.com/ubuntu bionic/main amd64 libaprutil1 amd64 1.6.1-2 [84.4 kB]\n",
            "Get:10 http://archive.ubuntu.com/ubuntu bionic/universe amd64 libserf-1-1 amd64 1.3.9-6 [44.4 kB]\n",
            "Get:11 http://archive.ubuntu.com/ubuntu bionic/universe amd64 libsvn1 amd64 1.9.7-4ubuntu1 [1,183 kB]\n",
            "Get:12 http://archive.ubuntu.com/ubuntu bionic/main amd64 x11proto-xext-dev all 2018.4-4 [2,620 B]\n",
            "Get:13 http://archive.ubuntu.com/ubuntu bionic/main amd64 libxext-dev amd64 2:1.3.3-1 [82.1 kB]\n",
            "Get:14 http://archive.ubuntu.com/ubuntu bionic/main amd64 libxpm4 amd64 1:3.5.12-1 [34.0 kB]\n",
            "Get:15 http://archive.ubuntu.com/ubuntu bionic/main amd64 libxpm-dev amd64 1:3.5.12-1 [87.4 kB]\n",
            "Get:16 http://archive.ubuntu.com/ubuntu bionic/universe amd64 subversion amd64 1.9.7-4ubuntu1 [834 kB]\n",
            "Fetched 7,466 kB in 2s (4,239 kB/s)\n",
            "Selecting previously unselected package liblzo2-2:amd64.\n",
            "(Reading database ... 21063 files and directories currently installed.)\n",
            "Preparing to unpack .../00-liblzo2-2_2.08-1.2_amd64.deb ...\n",
            "Unpacking liblzo2-2:amd64 (2.08-1.2) ...\n",
            "Selecting previously unselected package cmake-data.\n",
            "Preparing to unpack .../01-cmake-data_3.10.2-1ubuntu2_all.deb ...\n",
            "Unpacking cmake-data (3.10.2-1ubuntu2) ...\n",
            "Selecting previously unselected package libarchive13:amd64.\n",
            "Preparing to unpack .../02-libarchive13_3.2.2-3.1ubuntu0.1_amd64.deb ...\n",
            "Unpacking libarchive13:amd64 (3.2.2-3.1ubuntu0.1) ...\n",
            "Selecting previously unselected package libjsoncpp1:amd64.\n",
            "Preparing to unpack .../03-libjsoncpp1_1.7.4-3_amd64.deb ...\n",
            "Unpacking libjsoncpp1:amd64 (1.7.4-3) ...\n",
            "Selecting previously unselected package librhash0:amd64.\n",
            "Preparing to unpack .../04-librhash0_1.3.6-2_amd64.deb ...\n",
            "Unpacking librhash0:amd64 (1.3.6-2) ...\n",
            "Selecting previously unselected package libuv1:amd64.\n",
            "Preparing to unpack .../05-libuv1_1.18.0-3_amd64.deb ...\n",
            "Unpacking libuv1:amd64 (1.18.0-3) ...\n",
            "Selecting previously unselected package cmake.\n",
            "Preparing to unpack .../06-cmake_3.10.2-1ubuntu2_amd64.deb ...\n",
            "Unpacking cmake (3.10.2-1ubuntu2) ...\n",
            "Selecting previously unselected package libapr1:amd64.\n",
            "Preparing to unpack .../07-libapr1_1.6.3-2_amd64.deb ...\n",
            "Unpacking libapr1:amd64 (1.6.3-2) ...\n",
            "Selecting previously unselected package libaprutil1:amd64.\n",
            "Preparing to unpack .../08-libaprutil1_1.6.1-2_amd64.deb ...\n",
            "Unpacking libaprutil1:amd64 (1.6.1-2) ...\n",
            "Selecting previously unselected package libserf-1-1:amd64.\n",
            "Preparing to unpack .../09-libserf-1-1_1.3.9-6_amd64.deb ...\n",
            "Unpacking libserf-1-1:amd64 (1.3.9-6) ...\n",
            "Selecting previously unselected package libsvn1:amd64.\n",
            "Preparing to unpack .../10-libsvn1_1.9.7-4ubuntu1_amd64.deb ...\n",
            "Unpacking libsvn1:amd64 (1.9.7-4ubuntu1) ...\n",
            "Selecting previously unselected package x11proto-xext-dev.\n",
            "Preparing to unpack .../11-x11proto-xext-dev_2018.4-4_all.deb ...\n",
            "Unpacking x11proto-xext-dev (2018.4-4) ...\n",
            "Selecting previously unselected package libxext-dev:amd64.\n",
            "Preparing to unpack .../12-libxext-dev_2%3a1.3.3-1_amd64.deb ...\n",
            "Unpacking libxext-dev:amd64 (2:1.3.3-1) ...\n",
            "Selecting previously unselected package libxpm4:amd64.\n",
            "Preparing to unpack .../13-libxpm4_1%3a3.5.12-1_amd64.deb ...\n",
            "Unpacking libxpm4:amd64 (1:3.5.12-1) ...\n",
            "Selecting previously unselected package libxpm-dev:amd64.\n",
            "Preparing to unpack .../14-libxpm-dev_1%3a3.5.12-1_amd64.deb ...\n",
            "Unpacking libxpm-dev:amd64 (1:3.5.12-1) ...\n",
            "Selecting previously unselected package subversion.\n",
            "Preparing to unpack .../15-subversion_1.9.7-4ubuntu1_amd64.deb ...\n",
            "Unpacking subversion (1.9.7-4ubuntu1) ...\n",
            "Setting up libapr1:amd64 (1.6.3-2) ...\n",
            "Setting up libuv1:amd64 (1.18.0-3) ...\n",
            "Setting up cmake-data (3.10.2-1ubuntu2) ...\n",
            "Setting up librhash0:amd64 (1.3.6-2) ...\n",
            "Setting up x11proto-xext-dev (2018.4-4) ...\n",
            "Processing triggers for libc-bin (2.27-3ubuntu1) ...\n",
            "Setting up libxext-dev:amd64 (2:1.3.3-1) ...\n",
            "Setting up libaprutil1:amd64 (1.6.1-2) ...\n",
            "Setting up libxpm4:amd64 (1:3.5.12-1) ...\n",
            "Setting up liblzo2-2:amd64 (2.08-1.2) ...\n",
            "Setting up libjsoncpp1:amd64 (1.7.4-3) ...\n",
            "Setting up libarchive13:amd64 (3.2.2-3.1ubuntu0.1) ...\n",
            "Setting up libxpm-dev:amd64 (1:3.5.12-1) ...\n",
            "Setting up libserf-1-1:amd64 (1.3.9-6) ...\n",
            "Setting up libsvn1:amd64 (1.9.7-4ubuntu1) ...\n",
            "Setting up cmake (3.10.2-1ubuntu2) ...\n",
            "Setting up subversion (1.9.7-4ubuntu1) ...\n",
            "Processing triggers for libc-bin (2.27-3ubuntu1) ...\n"
          ],
          "name": "stdout"
        }
      ]
    },
    {
      "metadata": {
        "id": "3i5bTy4x601V",
        "colab_type": "text"
      },
      "cell_type": "markdown",
      "source": [
        "### 2. Mount the drive to get the root binary and untar it "
      ]
    },
    {
      "metadata": {
        "id": "gMhjqJ9noRcX",
        "colab_type": "code",
        "colab": {
          "base_uri": "https://localhost:8080/",
          "height": 124
        },
        "outputId": "b979c9df-b602-4145-94ed-a799d2f8ca26"
      },
      "cell_type": "code",
      "source": [
        "# Load the Drive helper and mount\n",
        "from google.colab import drive\n",
        "\n",
        "# This will prompt for authorization.\n",
        "drive.mount('/content/drive')"
      ],
      "execution_count": 2,
      "outputs": [
        {
          "output_type": "stream",
          "text": [
            "Go to this URL in a browser: https://accounts.google.com/o/oauth2/auth?client_id=947318989803-6bn6qk8qdgf4n4g3pfee6491hc0brc4i.apps.googleusercontent.com&redirect_uri=urn%3Aietf%3Awg%3Aoauth%3A2.0%3Aoob&scope=email%20https%3A%2F%2Fwww.googleapis.com%2Fauth%2Fdocs.test%20https%3A%2F%2Fwww.googleapis.com%2Fauth%2Fdrive%20https%3A%2F%2Fwww.googleapis.com%2Fauth%2Fdrive.photos.readonly%20https%3A%2F%2Fwww.googleapis.com%2Fauth%2Fpeopleapi.readonly&response_type=code\n",
            "\n",
            "Enter your authorization code:\n",
            "··········\n",
            "Mounted at /content/drive\n"
          ],
          "name": "stdout"
        }
      ]
    },
    {
      "metadata": {
        "id": "dt2PEUjQo0RY",
        "colab_type": "code",
        "colab": {
          "base_uri": "https://localhost:8080/",
          "height": 52
        },
        "outputId": "c7e09b00-ac19-4ae0-803b-bce3e2b2b5bf"
      },
      "cell_type": "code",
      "source": [
        "# After executing the cell above, Drive\n",
        "# files will be present in \"/content/drive/My Drive\".\n",
        "!ls \"/content/drive/Team Drives/PyROOT_in_Google/\""
      ],
      "execution_count": 3,
      "outputs": [
        {
          "output_type": "stream",
          "text": [
            "BasicAnalysis.ipynb\t  root_build_google_yikes.tar\n",
            "BasicPyROOTExample.ipynb  TrimmedTree.root\n"
          ],
          "name": "stdout"
        }
      ]
    },
    {
      "metadata": {
        "id": "tRQGlQ4Hqau9",
        "colab_type": "code",
        "colab": {}
      },
      "cell_type": "code",
      "source": [
        "!tar -xf /content/drive/Team\\ Drives/PyROOT_in_Google/root_build_google_yikes.tar"
      ],
      "execution_count": 0,
      "outputs": []
    },
    {
      "metadata": {
        "id": "DfLQ4DrprjLU",
        "colab_type": "code",
        "colab": {
          "base_uri": "https://localhost:8080/",
          "height": 86
        },
        "outputId": "5c75cb4d-aa72-4b4b-8b2c-978acb10f568"
      },
      "cell_type": "code",
      "source": [
        "!ls -ltrh"
      ],
      "execution_count": 5,
      "outputs": [
        {
          "output_type": "stream",
          "text": [
            "total 12K\n",
            "drwxr-xr-x 44 root root 4.0K Sep 20 23:35 root_build\n",
            "drwxr-xr-x  2 root root 4.0K Oct  2 19:06 sample_data\n",
            "drwx------  3 root root 4.0K Oct  4 15:10 drive\n"
          ],
          "name": "stdout"
        }
      ]
    },
    {
      "metadata": {
        "id": "1nHFk9y68VVP",
        "colab_type": "text"
      },
      "cell_type": "markdown",
      "source": [
        "\n",
        "### 3. Modify the PATH in order to tell python where to look for pyROOT\n"
      ]
    },
    {
      "metadata": {
        "id": "N3ndoY6iu6_J",
        "colab_type": "code",
        "colab": {}
      },
      "cell_type": "code",
      "source": [
        "import sys\n",
        "sys.path.append(\"/content/root_build/\")\n",
        "sys.path.append(\"/content/root_build/bin/\")\n",
        "sys.path.append(\"/content/root_build/include/\")\n",
        "sys.path.append(\"/content/root_build/lib/\")"
      ],
      "execution_count": 0,
      "outputs": []
    },
    {
      "metadata": {
        "id": "T33_3Ad08kEA",
        "colab_type": "text"
      },
      "cell_type": "markdown",
      "source": [
        "# Now let's analyze the data contained in TrimmedTree.root file"
      ]
    },
    {
      "metadata": {
        "id": "yULNnS6nqNhT",
        "colab_type": "text"
      },
      "cell_type": "markdown",
      "source": [
        "### Importing necessary libraries"
      ]
    },
    {
      "metadata": {
        "id": "rGBwkzJ4DLAY",
        "colab_type": "code",
        "colab": {}
      },
      "cell_type": "code",
      "source": [
        "import ROOT"
      ],
      "execution_count": 0,
      "outputs": []
    },
    {
      "metadata": {
        "id": "Uw1iSG5bqSZ6",
        "colab_type": "text"
      },
      "cell_type": "markdown",
      "source": [
        "### Reading tree in root file"
      ]
    },
    {
      "metadata": {
        "id": "I8zyzA2-pn0i",
        "colab_type": "code",
        "colab": {
          "base_uri": "https://localhost:8080/",
          "height": 34
        },
        "outputId": "e1d55738-878f-4471-8c0d-f0ee1fdb9d67"
      },
      "cell_type": "code",
      "source": [
        "DataChain=ROOT.TChain(\"TrimmedTree\")\n",
        "DataChain.Add(\"/content/drive/Team Drives/PyROOT_in_Google/TrimmedTree.root\")"
      ],
      "execution_count": 13,
      "outputs": [
        {
          "output_type": "execute_result",
          "data": {
            "text/plain": [
              "1"
            ]
          },
          "metadata": {
            "tags": []
          },
          "execution_count": 13
        }
      ]
    },
    {
      "metadata": {
        "id": "OYjoY3-Yqkuo",
        "colab_type": "text"
      },
      "cell_type": "markdown",
      "source": [
        "### Getting the number of events contained in the tree"
      ]
    },
    {
      "metadata": {
        "id": "0xu0PEvRqev9",
        "colab_type": "code",
        "colab": {
          "base_uri": "https://localhost:8080/",
          "height": 34
        },
        "outputId": "edbf80ee-30dc-45b5-f0d9-cebbad8b042b"
      },
      "cell_type": "code",
      "source": [
        "NumberOfEventsToCheck=DataChain.GetEntries()\n",
        "print(\"We are going to analyze \",NumberOfEventsToCheck, \" events\")"
      ],
      "execution_count": 14,
      "outputs": [
        {
          "output_type": "stream",
          "text": [
            "We are going to analyze  100000  events\n"
          ],
          "name": "stdout"
        }
      ]
    },
    {
      "metadata": {
        "id": "Lk5lytzKrbFn",
        "colab_type": "text"
      },
      "cell_type": "markdown",
      "source": [
        "### Loop over the events"
      ]
    },
    {
      "metadata": {
        "id": "woFnYYNKyoR9",
        "colab_type": "code",
        "colab": {}
      },
      "cell_type": "code",
      "source": [
        "DiMuM = ROOT.TH1F( 'DiMuM', 'Di-muon mass distribution', 200, 60, 120 )\n",
        "for entry in DataChain:\n",
        "  NumberOfMuons=entry.MuonPt.size()\n",
        "  if NumberOfMuons!=2: continue # Accepting only events with exactly two muons\n",
        "  muon1 = ROOT.TLorentzVector()\n",
        "  muon2 = ROOT.TLorentzVector()\n",
        "  muon1.SetPtEtaPhiM(entry.MuonPt.at(0),entry.MuonEta.at(0),entry.MuonPhi.at(0),0.106)\n",
        "  muon2.SetPtEtaPhiM(entry.MuonPt.at(1),entry.MuonEta.at(1),entry.MuonPhi.at(1),0.106)\n",
        "  DiMuonSystem = muon1 + muon2\n",
        "  #print(DiMuonSystem.M())\n",
        "  DiMuM.Fill(DiMuonSystem.M())"
      ],
      "execution_count": 0,
      "outputs": []
    },
    {
      "metadata": {
        "id": "CV1APNiP1r_y",
        "colab_type": "code",
        "colab": {
          "base_uri": "https://localhost:8080/",
          "height": 906
        },
        "outputId": "15540411-a398-40d2-93b3-ce31c8ef7b0b"
      },
      "cell_type": "code",
      "source": [
        "c1 = ROOT.TCanvas( 'c1', 'The FillRandom example', 200, 10, 700, 900 )\n",
        "c1.SetFillColor( 0 )\n",
        "DiMuM.Draw()\n",
        "c1.Update()\n",
        "ROOT.gROOT.GetListOfCanvases().Draw()\n"
      ],
      "execution_count": 22,
      "outputs": [
        {
          "output_type": "stream",
          "text": [
            "Warning in <TCanvas::Constructor>: Deleting canvas with same name: c1\n"
          ],
          "name": "stderr"
        },
        {
          "output_type": "display_data",
          "data": {
            "image/png": "[encoded data removed]",
            "text/plain": [
              "<IPython.core.display.Image object>"
            ]
          },
          "metadata": {
            "tags": []
          }
        }
      ]
    }
  ]
}